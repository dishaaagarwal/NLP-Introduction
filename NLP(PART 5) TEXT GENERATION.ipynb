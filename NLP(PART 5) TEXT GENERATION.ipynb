{
 "cells": [
  {
   "cell_type": "markdown",
   "metadata": {},
   "source": [
    "# INTRODUCTION\n",
    "\n",
    "Markov Chain is a very basic technique for Text Generation.\n",
    "In Markov Chain each word represents a state and the edges represent the Probability.We can make a simple assumption that the next word is only dependent on the previous word - which is the basic assumption of a Markov chain.\n",
    "\n",
    "Th more complex technique is LSTM wth deep learning for text generation.\n",
    "\n",
    "REFRENCE--https://www.youtube.com/watch?v=MGVdu39gT6k"
   ]
  },
  {
   "cell_type": "code",
   "execution_count": 5,
   "metadata": {},
   "outputs": [
    {
     "data": {
      "text/html": [
       "<div>\n",
       "<style scoped>\n",
       "    .dataframe tbody tr th:only-of-type {\n",
       "        vertical-align: middle;\n",
       "    }\n",
       "\n",
       "    .dataframe tbody tr th {\n",
       "        vertical-align: top;\n",
       "    }\n",
       "\n",
       "    .dataframe thead th {\n",
       "        text-align: right;\n",
       "    }\n",
       "</style>\n",
       "<table border=\"1\" class=\"dataframe\">\n",
       "  <thead>\n",
       "    <tr style=\"text-align: right;\">\n",
       "      <th></th>\n",
       "      <th>transcript</th>\n",
       "      <th>full_name</th>\n",
       "    </tr>\n",
       "  </thead>\n",
       "  <tbody>\n",
       "    <tr>\n",
       "      <th>ali</th>\n",
       "      <td>Ladies and gentlemen, please welcome to the st...</td>\n",
       "      <td>Ali Wong</td>\n",
       "    </tr>\n",
       "    <tr>\n",
       "      <th>anthony</th>\n",
       "      <td>Thank you. Thank you. Thank you, San Francisco...</td>\n",
       "      <td>Anthony Jeselnik</td>\n",
       "    </tr>\n",
       "    <tr>\n",
       "      <th>bill</th>\n",
       "      <td>[cheers and applause] All right, thank you! Th...</td>\n",
       "      <td>Bill Burr</td>\n",
       "    </tr>\n",
       "    <tr>\n",
       "      <th>bo</th>\n",
       "      <td>Bo What? Old MacDonald had a farm E I E I O An...</td>\n",
       "      <td>Bo Burnham</td>\n",
       "    </tr>\n",
       "    <tr>\n",
       "      <th>dave</th>\n",
       "      <td>This is Dave. He tells dirty jokes for a livin...</td>\n",
       "      <td>Dave Chappelle</td>\n",
       "    </tr>\n",
       "    <tr>\n",
       "      <th>hasan</th>\n",
       "      <td>[theme music: orchestral hip-hop] [crowd roars...</td>\n",
       "      <td>Hasan Minhaj</td>\n",
       "    </tr>\n",
       "    <tr>\n",
       "      <th>jim</th>\n",
       "      <td>[Car horn honks] [Audience cheering] [Announce...</td>\n",
       "      <td>Jim Jefferies</td>\n",
       "    </tr>\n",
       "    <tr>\n",
       "      <th>joe</th>\n",
       "      <td>[rock music playing] [audience cheering] [anno...</td>\n",
       "      <td>Joe Rogan</td>\n",
       "    </tr>\n",
       "    <tr>\n",
       "      <th>john</th>\n",
       "      <td>All right, Petunia. Wish me luck out there. Yo...</td>\n",
       "      <td>John Mulaney</td>\n",
       "    </tr>\n",
       "    <tr>\n",
       "      <th>louis</th>\n",
       "      <td>Intro\\nFade the music out. Let’s roll. Hold th...</td>\n",
       "      <td>Louis C.K.</td>\n",
       "    </tr>\n",
       "    <tr>\n",
       "      <th>mike</th>\n",
       "      <td>Wow. Hey, thank you. Thanks. Thank you, guys. ...</td>\n",
       "      <td>Mike Birbiglia</td>\n",
       "    </tr>\n",
       "    <tr>\n",
       "      <th>ricky</th>\n",
       "      <td>Hello. Hello! How you doing? Great. Thank you....</td>\n",
       "      <td>Ricky Gervais</td>\n",
       "    </tr>\n",
       "  </tbody>\n",
       "</table>\n",
       "</div>"
      ],
      "text/plain": [
       "                                                transcript         full_name\n",
       "ali      Ladies and gentlemen, please welcome to the st...          Ali Wong\n",
       "anthony  Thank you. Thank you. Thank you, San Francisco...  Anthony Jeselnik\n",
       "bill     [cheers and applause] All right, thank you! Th...         Bill Burr\n",
       "bo       Bo What? Old MacDonald had a farm E I E I O An...        Bo Burnham\n",
       "dave     This is Dave. He tells dirty jokes for a livin...    Dave Chappelle\n",
       "hasan    [theme music: orchestral hip-hop] [crowd roars...      Hasan Minhaj\n",
       "jim      [Car horn honks] [Audience cheering] [Announce...     Jim Jefferies\n",
       "joe      [rock music playing] [audience cheering] [anno...         Joe Rogan\n",
       "john     All right, Petunia. Wish me luck out there. Yo...      John Mulaney\n",
       "louis    Intro\\nFade the music out. Let’s roll. Hold th...        Louis C.K.\n",
       "mike     Wow. Hey, thank you. Thanks. Thank you, guys. ...    Mike Birbiglia\n",
       "ricky    Hello. Hello! How you doing? Great. Thank you....     Ricky Gervais"
      ]
     },
     "execution_count": 5,
     "metadata": {},
     "output_type": "execute_result"
    }
   ],
   "source": [
    "import pandas as pd\n",
    "\n",
    "#Import the file.\n",
    "\n",
    "data=pd.read_pickle('corpus.pkl')\n",
    "data"
   ]
  },
  {
   "cell_type": "markdown",
   "metadata": {},
   "source": [
    "In this notebook, we're specifically going to generate text in the style of Ali Wong, so as a first step, let's extract the text from her comedy routine."
   ]
  },
  {
   "cell_type": "code",
   "execution_count": 13,
   "metadata": {},
   "outputs": [
    {
     "data": {
      "text/plain": [
       "'Ladies and gentlemen, please welcome to the stage: Ali Wong! Hi. Hello! Welcome! Thank you! Thank you for coming. Hello! Hello. We are gonna have to get this shit over with, ’cause I have to pee in, l'"
      ]
     },
     "execution_count": 13,
     "metadata": {},
     "output_type": "execute_result"
    }
   ],
   "source": [
    "ali_text=data.transcript['ali'][:200] # Extract only Ali Wong Text\n",
    "ali_text"
   ]
  },
  {
   "cell_type": "code",
   "execution_count": 22,
   "metadata": {},
   "outputs": [
    {
     "data": {
      "text/plain": [
       "['Ladies',\n",
       " 'and',\n",
       " 'gentlemen,',\n",
       " 'please',\n",
       " 'welcome',\n",
       " 'to',\n",
       " 'the',\n",
       " 'stage:',\n",
       " 'Ali',\n",
       " 'Wong!',\n",
       " 'Hi.',\n",
       " 'Hello!',\n",
       " 'Welcome!',\n",
       " 'Thank',\n",
       " 'you!',\n",
       " 'Thank',\n",
       " 'you',\n",
       " 'for',\n",
       " 'coming.',\n",
       " 'Hello!',\n",
       " 'Hello.',\n",
       " 'We',\n",
       " 'are',\n",
       " 'gonna',\n",
       " 'have',\n",
       " 'to',\n",
       " 'get',\n",
       " 'this',\n",
       " 'shit',\n",
       " 'over',\n",
       " 'with,',\n",
       " '’cause',\n",
       " 'I',\n",
       " 'have',\n",
       " 'to',\n",
       " 'pee',\n",
       " 'in,',\n",
       " 'l']"
      ]
     },
     "execution_count": 22,
     "metadata": {},
     "output_type": "execute_result"
    }
   ],
   "source": [
    "ali_text.split(' ')\n"
   ]
  },
  {
   "cell_type": "markdown",
   "metadata": {},
   "source": [
    "# Build a Markov Chain Function\n",
    "We are going to build a simple Markov chain function that creates a dictionary:\n",
    "\n",
    "The keys should be all of the words in the corpus\n",
    "\n",
    "The values should be a list of the words that follow the keys"
   ]
  },
  {
   "cell_type": "code",
   "execution_count": 26,
   "metadata": {},
   "outputs": [],
   "source": [
    "from collections import defaultdict\n",
    "\n",
    "#Create function to generate markov chain\n",
    "def markov_chain(text):\n",
    "    token_word=text.split(' ')# Split the sentence into words\n",
    "    \n",
    "    def_dict=defaultdict(list)# Create default dict\n",
    "    \n",
    "    #Create a zipped list of all of the word pairs and put them in word: list of next words format\n",
    "    \n",
    "    for current_word,next_word in zip(token_word[0:-1],token_word[1:]):\n",
    "        def_dict[current_word].append(next_word)\n",
    "    def_dict=dict(def_dict)    \n",
    "    return def_dict"
   ]
  },
  {
   "cell_type": "code",
   "execution_count": 28,
   "metadata": {},
   "outputs": [
    {
     "data": {
      "text/plain": [
       "{'Ladies': ['and'],\n",
       " 'and': ['gentlemen,'],\n",
       " 'gentlemen,': ['please'],\n",
       " 'please': ['welcome'],\n",
       " 'welcome': ['to'],\n",
       " 'to': ['the', 'get', 'pee'],\n",
       " 'the': ['stage:'],\n",
       " 'stage:': ['Ali'],\n",
       " 'Ali': ['Wong!'],\n",
       " 'Wong!': ['Hi.'],\n",
       " 'Hi.': ['Hello!'],\n",
       " 'Hello!': ['Welcome!', 'Hello.'],\n",
       " 'Welcome!': ['Thank'],\n",
       " 'Thank': ['you!', 'you'],\n",
       " 'you!': ['Thank'],\n",
       " 'you': ['for'],\n",
       " 'for': ['coming.'],\n",
       " 'coming.': ['Hello!'],\n",
       " 'Hello.': ['We'],\n",
       " 'We': ['are'],\n",
       " 'are': ['gonna'],\n",
       " 'gonna': ['have'],\n",
       " 'have': ['to', 'to'],\n",
       " 'get': ['this'],\n",
       " 'this': ['shit'],\n",
       " 'shit': ['over'],\n",
       " 'over': ['with,'],\n",
       " 'with,': ['’cause'],\n",
       " '’cause': ['I'],\n",
       " 'I': ['have'],\n",
       " 'pee': ['in,'],\n",
       " 'in,': ['l']}"
      ]
     },
     "execution_count": 28,
     "metadata": {},
     "output_type": "execute_result"
    }
   ],
   "source": [
    "# Create the dictionary for Ali's routine, take a look at it\n",
    "ali_dict = markov_chain(ali_text)\n",
    "ali_dict\n",
    "# Here the KEY--> Current State\n",
    "        #  VALUE-->NEXT STATE "
   ]
  },
  {
   "cell_type": "markdown",
   "metadata": {},
   "source": [
    "# Create a Text Generator\n",
    "We're going to create a function that generates sentences. It will take two things as inputs:\n",
    "\n",
    "(.)The dictionary you just created\n",
    "\n",
    "(.)The number of words you want generated\n",
    "\n",
    "\n",
    "Here are some examples of generated sentences:\n",
    "\n",
    "'Shape right turn– I also takes so that she’s got women all know that snail-trail.'\n",
    "\n",
    "'Optimum level of early retirement, and be sure all the following Tuesday… because it’s too.'\n",
    "\n"
   ]
  },
  {
   "cell_type": "code",
   "execution_count": 29,
   "metadata": {},
   "outputs": [],
   "source": [
    "import random\n",
    "\n",
    "def generate_sentence(chain, count=15):\n",
    "    '''Input a dictionary in the format of key = current word, value = list of next words\n",
    "       along with the number of words you would like to see in your generated sentence.'''\n",
    "\n",
    "    # Capitalize the first word\n",
    "    word1 = random.choice(list(chain.keys()))\n",
    "    sentence = word1.capitalize()\n",
    "\n",
    "    # Generate the second word from the value list. Set the new word as the first word. Repeat.\n",
    "    for i in range(count-1):\n",
    "        word2 = random.choice(chain[word1])\n",
    "        word1 = word2\n",
    "        sentence += ' ' + word2\n",
    "\n",
    "    # End it with a period\n",
    "    sentence += '.'\n",
    "    return(sentence)"
   ]
  },
  {
   "cell_type": "code",
   "execution_count": 30,
   "metadata": {},
   "outputs": [
    {
     "data": {
      "text/plain": [
       "'To get this shit over with, ’cause I have to get this shit over with,.'"
      ]
     },
     "execution_count": 30,
     "metadata": {},
     "output_type": "execute_result"
    }
   ],
   "source": [
    "generate_sentence(ali_dict)"
   ]
  },
  {
   "cell_type": "code",
   "execution_count": null,
   "metadata": {},
   "outputs": [],
   "source": []
  }
 ],
 "metadata": {
  "kernelspec": {
   "display_name": "Python 3",
   "language": "python",
   "name": "python3"
  },
  "language_info": {
   "codemirror_mode": {
    "name": "ipython",
    "version": 3
   },
   "file_extension": ".py",
   "mimetype": "text/x-python",
   "name": "python",
   "nbconvert_exporter": "python",
   "pygments_lexer": "ipython3",
   "version": "3.7.3"
  }
 },
 "nbformat": 4,
 "nbformat_minor": 2
}
